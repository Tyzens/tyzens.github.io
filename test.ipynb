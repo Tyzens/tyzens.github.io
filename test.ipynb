{
  "nbformat": 4,
  "nbformat_minor": 0,
  "metadata": {
    "colab": {
      "name": "Untitled1.ipynb",
      "version": "0.3.2",
      "provenance": [],
      "collapsed_sections": [],
      "include_colab_link": true
    },
    "kernelspec": {
      "name": "python3",
      "display_name": "Python 3"
    }
  },
  "cells": [
    {
      "cell_type": "markdown",
      "metadata": {
        "id": "view-in-github",
        "colab_type": "text"
      },
      "source": [
        "<a href=\"https://colab.research.google.com/github/Tyzens/tyzens.github.io/blob/master/test.ipynb\" target=\"_parent\"><img src=\"https://colab.research.google.com/assets/colab-badge.svg\" alt=\"Open In Colab\"/></a>"
      ]
    },
    {
      "cell_type": "code",
      "metadata": {
        "id": "EcyFFsgJUTNj",
        "colab_type": "code",
        "outputId": "54e3c58a-4246-4515-945f-97d64adb8810",
        "colab": {
          "base_uri": "https://localhost:8080/",
          "height": 326
        }
      },
      "source": [
        "import requests\n",
        "import re\n",
        "from bs4 import BeautifulSoup\n",
        "\n",
        "\n",
        "req = requests.get('https://land.naver.com/article/articleDetailInfo.nhn?atclNo=1917738906&atclRletTypeCd=A01&rletTypeCd=A01&tradeTypeCd=A1')\n",
        "\n",
        "html = req.text\n",
        "\n",
        "soup = BeautifulSoup(html, 'html.parser')\n",
        "div = soup.find(\"div\", {\"class\" : \"inner\"})\n",
        "\n",
        "div = soup.find(\"div\", {\"class\" : \"mp_area\"})\n",
        "num = str(div.findAll(\"strong\"))\n",
        "num = re.sub('<.+?>', '', num, 0).strip()\n",
        "tx_t = str(div.findAll(\"em\"))\n",
        "tx_t = re.sub('<.+?>', '', tx_t, 0).strip()\n",
        "\n",
        "sale_info = soup.find(\"div\", {\"class\": \"sale_info_area\"})\n",
        "a_info = sale_info.find(\"p\")\n",
        "print(div.text)\n",
        "print(tx_t)\n",
        "print(num)\n",
        "print(a_info.text)"
      ],
      "execution_count": 6,
      "outputs": [
        {
          "output_type": "stream",
          "text": [
            "\n",
            "시세\n",
            "\n",
            "매매가220,000 ~ 265,000 만원\n",
            "전세가115,000 ~ 132,000 만원\n",
            "전세율49 ~ 52 %\n",
            "\t\t\t\t\t\t\t\t매매가 대비 전세가\n",
            "\n",
            "\n",
            "\n",
            "한국감정원\n",
            "더보기 \n",
            "\n",
            "\n",
            "[매매가, 전세가, 전세율]\n",
            "[220,000 ~ 265,000, 115,000 ~ 132,000, 49 ~ 52]\n",
            "*** 저희 부동산은 청담자이 앞에 위치하고 있습니다  *** 현재 물건 외에도 청담자이 다양한 물건을 확보하고 있습니다 강남 고급아파트,고급빌라,고급오피스텔 전문 중개법인으로고객님의 자산을 소중히 여겨 신중 중개를 하고 있습니다.언제든 매매,전세,월세 또는 부동산 전반적 문의를 주시면 친절히 상담해드리겠습니다 *** 청담자이는 어떤 곳 청담자이는 청담동 고급 주거지역에 위치한 고급 아파트로 저층의 일부 세대를 제외하고는 거의 모든 세대에서 한강뷰라는 특별한 해택을 누리실 수 있는 강남권에서도 희소성 높은 고급 아파트입니다.청담동 선호도 1위를 자랑하는 아파트로서 주거 생활의 질과 만족도가 굉장히 높습니다.*** 단지내 설명 주차는 세대당 2대씩가 가능하며, 단지내 시설로는 휘트니스,골프연습장,풋살연습장,독서실,건식사우나등이 있습니다.주변에 한강 공원까지 바로 인접해 있어 생활 인프라가 너무 좋습니다.   *** 교통 강남의 입구에 위치 해있으며 영동대교로 즉시 강북과의 진출입이 가능합니다올림픽대로,동부간선도로등 접근성이 매우 뛰어납니다지하철은 7호선 청담역으로14번 출구에서 약 8분거리에 있습니다.*** 개발 호재현대자동차의 글로벌비지니스센터(GBC)신축 코엑스와 잠실종합운동장을 연결하는 국제교류복합지구계획,영동대로에`광역복합환승센터`조성 잠실운동장의 30배 크기인 거대 지하 도시지하 도시가 들어설 예정이며 위례신도시와 신사동을 연결하는 위례신사선 착공이 계획 되어있습니다\n"
          ],
          "name": "stdout"
        }
      ]
    },
    {
      "cell_type": "code",
      "metadata": {
        "id": "jQoUiykxnkDG",
        "colab_type": "code",
        "colab": {}
      },
      "source": [
        ""
      ],
      "execution_count": 0,
      "outputs": []
    }
  ]
}